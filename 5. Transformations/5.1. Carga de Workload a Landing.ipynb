{
 "cells": [
  {
   "cell_type": "code",
   "execution_count": 0,
   "metadata": {
    "application/vnd.databricks.v1+cell": {
     "cellMetadata": {
      "byteLimit": 2048000,
      "rowLimit": 10000
     },
     "inputWidgets": {},
     "nuid": "a3028e6f-cdae-479d-8de4-58741b6467ba",
     "showTitle": false,
     "title": ""
    }
   },
   "outputs": [],
   "source": [
    "from pyspark.sql import SparkSession\n",
    "from pyspark.sql.types import *"
   ]
  },
  {
   "cell_type": "code",
   "execution_count": 0,
   "metadata": {
    "application/vnd.databricks.v1+cell": {
     "cellMetadata": {
      "byteLimit": 2048000,
      "rowLimit": 10000
     },
     "inputWidgets": {},
     "nuid": "3545602e-aa91-4912-a48a-41c06d257088",
     "showTitle": false,
     "title": ""
    }
   },
   "outputs": [],
   "source": [
    "spark = SparkSession.builder.getOrCreate()\n"
   ]
  },
  {
   "cell_type": "code",
   "execution_count": 0,
   "metadata": {
    "application/vnd.databricks.v1+cell": {
     "cellMetadata": {
      "byteLimit": 2048000,
      "rowLimit": 10000
     },
     "inputWidgets": {},
     "nuid": "a844a669-7097-44bc-91a8-b9dd61442f31",
     "showTitle": false,
     "title": ""
    }
   },
   "outputs": [
    {
     "output_type": "display_data",
     "data": {
      "text/html": [
       "\n",
       "            <div>\n",
       "                <p><b>SparkSession - hive</b></p>\n",
       "                \n",
       "        <div>\n",
       "            <p><b>SparkContext</b></p>\n",
       "\n",
       "            <p><a href=\"/?o=8721221827189852#setting/sparkui/0303-155352-9t8j4jkv/driver-8154979170641180134\">Spark UI</a></p>\n",
       "\n",
       "            <dl>\n",
       "              <dt>Version</dt>\n",
       "                <dd><code>v3.3.2</code></dd>\n",
       "              <dt>Master</dt>\n",
       "                <dd><code>local[8]</code></dd>\n",
       "              <dt>AppName</dt>\n",
       "                <dd><code>Databricks Shell</code></dd>\n",
       "            </dl>\n",
       "        </div>\n",
       "        \n",
       "            </div>\n",
       "        "
      ]
     },
     "metadata": {
      "application/vnd.databricks.v1+output": {
       "addedWidgets": {},
       "arguments": {},
       "data": "\n            <div>\n                <p><b>SparkSession - hive</b></p>\n                \n        <div>\n            <p><b>SparkContext</b></p>\n\n            <p><a href=\"/?o=8721221827189852#setting/sparkui/0303-155352-9t8j4jkv/driver-8154979170641180134\">Spark UI</a></p>\n\n            <dl>\n              <dt>Version</dt>\n                <dd><code>v3.3.2</code></dd>\n              <dt>Master</dt>\n                <dd><code>local[8]</code></dd>\n              <dt>AppName</dt>\n                <dd><code>Databricks Shell</code></dd>\n            </dl>\n        </div>\n        \n            </div>\n        ",
       "datasetInfos": [],
       "metadata": {},
       "removedWidgets": [],
       "textData": null,
       "type": "htmlSandbox"
      }
     },
     "output_type": "display_data"
    }
   ],
   "source": [
    "spark\n"
   ]
  },
  {
   "cell_type": "code",
   "execution_count": 0,
   "metadata": {
    "application/vnd.databricks.v1+cell": {
     "cellMetadata": {
      "byteLimit": 2048000,
      "rowLimit": 10000
     },
     "inputWidgets": {},
     "nuid": "e6280649-2033-4b28-a581-b43895e9cb65",
     "showTitle": false,
     "title": ""
    }
   },
   "outputs": [],
   "source": [
    "df_schema = StructType([\n",
    "    StructField(\"id_table\", IntegerType(), False),\n",
    "    StructField(\"periodo\", IntegerType(), False),\n",
    "    StructField(\"id\", IntegerType(), False),\n",
    "    StructField(\"numdoc\", IntegerType(), False),\n",
    "    StructField(\"cuspp\", StringType(), False),\n",
    "    StructField(\"first_name\", StringType(), False),\n",
    "    StructField(\"last_name\", StringType(), False),\n",
    "    StructField(\"edad\", IntegerType(), False),\n",
    "    StructField(\"tipo_fondo\", StringType(), False),\n",
    "    StructField(\"afp_origen\", StringType(), False),\n",
    "    StructField(\"empresa\", StringType(), False),\n",
    "    StructField(\"ruc\", LongType(), False),\n",
    "    StructField(\"tipo_comision\", StringType(), False),\n",
    "    StructField(\"ram\", DoubleType(), False),\n",
    "    StructField(\"tipo_usuario\", StringType(), False),\n",
    "    StructField(\"tipo_prospecto\", StringType(), False),\n",
    "    StructField(\"sexo\", StringType(), False),\n",
    "    StructField(\"gest_fecha_\", StringType(), False),\n",
    "    StructField(\"telefono\", IntegerType(), False),\n",
    "    StructField(\"correo\", StringType(), False),\n",
    "    StructField(\"equipo\", StringType(), False),\n",
    "    StructField(\"etapa\", StringType(), False)\n",
    "])"
   ]
  },
  {
   "cell_type": "code",
   "execution_count": 0,
   "metadata": {
    "application/vnd.databricks.v1+cell": {
     "cellMetadata": {
      "byteLimit": 2048000,
      "rowLimit": 10000
     },
     "inputWidgets": {},
     "nuid": "0e138f42-b569-4967-bad5-423cd966512a",
     "showTitle": false,
     "title": ""
    }
   },
   "outputs": [],
   "source": [
    "ruta_persona_raw = \"gs://data-lake-afiliados/workload/data_afiliados.csv\""
   ]
  },
  {
   "cell_type": "code",
   "execution_count": 0,
   "metadata": {
    "application/vnd.databricks.v1+cell": {
     "cellMetadata": {
      "byteLimit": 2048000,
      "rowLimit": 10000
     },
     "inputWidgets": {},
     "nuid": "23e6aa40-51d0-49b4-bfbd-a28ce62437ed",
     "showTitle": false,
     "title": ""
    }
   },
   "outputs": [],
   "source": [
    "df_afiliados = spark.read.format(\"csv\").option(\"header\", \"true\").option(\"delimiter\", \",\").schema(df_schema).load(ruta_persona_raw)\n"
   ]
  },
  {
   "cell_type": "code",
   "execution_count": 0,
   "metadata": {
    "application/vnd.databricks.v1+cell": {
     "cellMetadata": {
      "byteLimit": 2048000,
      "rowLimit": 10000
     },
     "inputWidgets": {},
     "nuid": "493139fc-2382-4143-8666-f96743e02d40",
     "showTitle": false,
     "title": ""
    }
   },
   "outputs": [
    {
     "output_type": "stream",
     "name": "stdout",
     "output_type": "stream",
     "text": [
      "root\n |-- id_table: integer (nullable = true)\n |-- periodo: integer (nullable = true)\n |-- id: integer (nullable = true)\n |-- numdoc: integer (nullable = true)\n |-- cuspp: string (nullable = true)\n |-- first_name: string (nullable = true)\n |-- last_name: string (nullable = true)\n |-- edad: integer (nullable = true)\n |-- tipo_fondo: string (nullable = true)\n |-- afp_origen: string (nullable = true)\n |-- empresa: string (nullable = true)\n |-- ruc: long (nullable = true)\n |-- tipo_comision: string (nullable = true)\n |-- ram: double (nullable = true)\n |-- tipo_usuario: string (nullable = true)\n |-- tipo_prospecto: string (nullable = true)\n |-- sexo: string (nullable = true)\n |-- gest_fecha_: string (nullable = true)\n |-- telefono: integer (nullable = true)\n |-- correo: string (nullable = true)\n |-- equipo: string (nullable = true)\n |-- etapa: string (nullable = true)\n\n"
     ]
    }
   ],
   "source": [
    "df_afiliados.printSchema()"
   ]
  },
  {
   "cell_type": "code",
   "execution_count": 0,
   "metadata": {
    "application/vnd.databricks.v1+cell": {
     "cellMetadata": {
      "byteLimit": 2048000,
      "rowLimit": 10000
     },
     "inputWidgets": {},
     "nuid": "2f270d64-176c-4c9c-8987-9a2843b44dde",
     "showTitle": false,
     "title": ""
    }
   },
   "outputs": [
    {
     "output_type": "stream",
     "name": "stdout",
     "output_type": "stream",
     "text": [
      "+--------+-------+---+--------+--------------------+----------+-------------+----+----------+-----------+------------------+------------+-------------+--------+------------+--------------+----+-----------+---------+--------------------+---------+------+\n|id_table|periodo| id|  numdoc|               cuspp|first_name|    last_name|edad|tipo_fondo| afp_origen|           empresa|         ruc|tipo_comision|     ram|tipo_usuario|tipo_prospecto|sexo|gest_fecha_| telefono|              correo|   equipo| etapa|\n+--------+-------+---+--------+--------------------+----------+-------------+----+----------+-----------+------------------+------------+-------------+--------+------------+--------------+----+-----------+---------+--------------------+---------+------+\n|       0| 202301|  1|86610256|rlairdcraig0@nift...|       Ray|  Laird-Craig|  33|   fondo 1|AFP HABITAT|Sunset Enterprises|375810124154|        flujo|52271.47|       nuevo|         grupo|   F|  1/24/2024|924203949|rlairdcraig0@doma...|   LIMA 5|cierre|\n|       1| 202301|  2|58943075|ltyres1@friendfee...|    Loydie|        Tyres|  26|   fondo 0|  PROFUTURO| Widget Industries|607357200766|        mixta|43498.71|       nuevo|          null|   M|  1/12/2024|943517773|   ltyres1@tmall.com|PROVINCIA|cierre|\n|       2| 202301|  3|44548531|sobrollachain2@bl...| Sebastian|O'Brollachain|  56|   fondo 1|AFP INTEGRA| Widget Industries|221186747871|        flujo|61205.98|        null|         grupo|   M|  1/17/2024|998909160|sobrollachain2@uc...|   LIMA 2|cierre|\n|       3| 202301|  4|27969891|  vsilson3@google.it|    Valery|       Silson|  60|   fondo 3|AFP HABITAT|Global Innovations|200312799018|        mixta|11858.44|        null|          null|   F|  1/14/2024|928668342|   vsilson3@tamu.edu|PROVINCIA|cierre|\n|       4| 202301|  5|52405781|jelflain4@howstuf...|   Jacinda|      Elflain|  30|   fondo 3|AFP INTEGRA|Sunset Enterprises| 46347775580|        mixta|57196.64|        null|       campaña|   F|  1/21/2024|937494211|jelflain4@google....|   LIMA 3|cierre|\n|       5| 202301|  6|40090562|  delsie5@sbwire.com|    Deanne|        Elsie|  60|   fondo 3|  PROFUTURO|Global Innovations|694085427988|        flujo|70165.79|       nuevo|          null|   F|  1/18/2024|962316527|delsie5@indiegogo...|   LIMA 5|cierre|\n|       6| 202301|  7|45591586|twoodcraft6@xrea.com|     Tisha|    Woodcraft|  34|   fondo 2|  PROFUTURO|Sunset Enterprises|369221765096|        mixta|74397.67|       nuevo|         grupo|   F|  1/30/2024|913218600| twoodcraft6@home.pl|   LIMA 5|cierre|\n|       7| 202301|  8|87519566|frushmer7@pcworld...|   Forrest|      Rushmer|  31|   fondo 2|AFP INTEGRA|     ABC Logistics|654674990241|        flujo|73368.74|        null|          null|   M|   1/6/2024|978249871|frushmer7@amazon....|PROVINCIA|cierre|\n|       8| 202301|  9|71229343|     jlehr8@java.com|   Juliana|         Lehr|  19|   fondo 3|  PROFUTURO| Widget Industries|825230050839|        flujo|22791.52|        null|          null|   F|  1/25/2024|904977847|      jlehr8@mit.edu|   LIMA 1|cierre|\n|       9| 202301| 10| 4719537|smooreed9@alibaba...|   Sheffie|      Mooreed|  38|   fondo 3|  PROFUTURO|Sunset Enterprises|412376428701|        flujo|19487.72|       nuevo|         grupo|   M|  1/24/2024|931315798|smooreed9@engadge...|   LIMA 2|cierre|\n|      10| 202301| 11|16521111|hwickmanna@whiteh...|     Helge|     Wickmann|  51|   fondo 2|AFP HABITAT| Widget Industries|336658801517|        flujo|83431.74|        null|          null|   F|   1/3/2024|991658348|hwickmanna@bloomb...|   LIMA 2|cierre|\n|      11| 202301| 12|55978032|jhanselmannb@bibl...|   Justinn|   Hanselmann|  27|   fondo 1|AFP INTEGRA| Widget Industries|379205709613|        flujo|92234.62|       nuevo|      referido|   F|  1/15/2024|949065478|jhanselmannb@arti...|   LIMA 5|cierre|\n|      12| 202301| 13|59806236|emahedyc@freewebs...|      Erin|       Mahedy|  18|   fondo 3|AFP HABITAT|Global Innovations|136486153766|        mixta|42454.79|        null|       campaña|   M|  1/11/2024|914460908|emahedyc@google.c...|   LIMA 2|cierre|\n|      13| 202301| 14|12408897|  dkingtond@fema.gov|     Dayle|      Kington|  48|   fondo 3|AFP HABITAT| Widget Industries| 97993668414|        flujo| 1477.37|       nuevo|          null|   F|   1/8/2024|903999242|dkingtond@nsw.gov.au|   LIMA 4|cierre|\n|      14| 202301| 15| 6132548|   rtenmane@cnet.com|   Rinaldo|       Tenman|  22|   fondo 3|AFP INTEGRA|  Acme Corporation|508018745062|        flujo|65682.46|        null|       campaña|   M|  1/24/2024|959833853|    rtenmane@ted.com|   LIMA 2|cierre|\n|      15| 202301| 16|36216267|mcanterf@prnewswi...|     Maddy|       Canter|  35|   fondo 1|  PROFUTURO|Sunset Enterprises|107949435231|        mixta|44196.74|       nuevo|      referido|   M|   1/6/2024|984807498|mcanterf@examiner...|   LIMA 1|cierre|\n|      16| 202301| 17|61090347| bmillmoeg@nymag.com|   Bartlet|      Millmoe|  59|   fondo 2|AFP INTEGRA| Widget Industries|111426048348|        flujo| 99298.1|        null|       campaña|   M|  1/30/2024|913219025|   bmillmoeg@who.int|   LIMA 2|cierre|\n|      17| 202301| 18|28021462|sheitzh@networkad...|     Stace|        Heitz|  49|   fondo 2|  PROFUTURO|Global Innovations|692053797600|        mixta| 9006.52|        null|       campaña|   F|  1/26/2024|926194673|      sheitzh@i2i.jp|   LIMA 5|cierre|\n|      18| 202301| 19|47739063|jfishpooli@cpanel...|  Jedediah|     Fishpool|  34|   fondo 1|AFP INTEGRA| Widget Industries|559698676618|        mixta|28079.14|       nuevo|      referido|   M|  1/16/2024|955749107|jfishpooli@quantc...|   LIMA 1|cierre|\n|      19| 202301| 20| 5150503|alittlecotej@amaz...|    Agnola|   Littlecote|  53|   fondo 1|AFP INTEGRA|Global Innovations|675564748697|        mixta|74299.12|       nuevo|       campaña|   F|   1/4/2024|981783914|alittlecotej@theg...|   LIMA 1|cierre|\n+--------+-------+---+--------+--------------------+----------+-------------+----+----------+-----------+------------------+------------+-------------+--------+------------+--------------+----+-----------+---------+--------------------+---------+------+\nonly showing top 20 rows\n\n"
     ]
    }
   ],
   "source": [
    "df_afiliados.show()\n"
   ]
  },
  {
   "cell_type": "code",
   "execution_count": 0,
   "metadata": {
    "application/vnd.databricks.v1+cell": {
     "cellMetadata": {
      "byteLimit": 2048000,
      "rowLimit": 10000
     },
     "inputWidgets": {},
     "nuid": "85e5d316-a71b-4cd9-ab47-942e9272802b",
     "showTitle": false,
     "title": ""
    }
   },
   "outputs": [
    {
     "output_type": "stream",
     "name": "stdout",
     "output_type": "stream",
     "text": [
      "La cantidad de registro del dataframe es:  11418\n"
     ]
    }
   ],
   "source": [
    "num_rows = df_afiliados.count()\n",
    "\n",
    "print(\"La cantidad de registro del dataframe es: \", num_rows)"
   ]
  },
  {
   "cell_type": "code",
   "execution_count": 0,
   "metadata": {
    "application/vnd.databricks.v1+cell": {
     "cellMetadata": {
      "byteLimit": 2048000,
      "rowLimit": 10000
     },
     "inputWidgets": {},
     "nuid": "82cec98b-b581-4308-95a1-aeb526a5347b",
     "showTitle": false,
     "title": ""
    }
   },
   "outputs": [],
   "source": [
    "ruta_persona_landing = \"gs://data-lake-afiliados/landing/\"\n",
    "\n",
    "df_afiliados.write.mode(\"overwrite\").format(\"parquet\").save(ruta_persona_landing)\n"
   ]
  }
 ],
 "metadata": {
  "application/vnd.databricks.v1+notebook": {
   "dashboards": [],
   "language": "python",
   "notebookMetadata": {
    "pythonIndentUnit": 4
   },
   "notebookName": "Carga de Workload a Landing",
   "widgets": {}
  }
 },
 "nbformat": 4,
 "nbformat_minor": 0
}
