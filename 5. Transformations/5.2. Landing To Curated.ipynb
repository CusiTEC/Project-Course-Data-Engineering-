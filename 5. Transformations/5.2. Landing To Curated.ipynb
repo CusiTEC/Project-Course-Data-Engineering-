{
 "cells": [
  {
   "cell_type": "code",
   "execution_count": 0,
   "metadata": {
    "application/vnd.databricks.v1+cell": {
     "cellMetadata": {
      "byteLimit": 2048000,
      "rowLimit": 10000
     },
     "inputWidgets": {},
     "nuid": "5977605d-6051-4591-86b1-7e67ca7fbc18",
     "showTitle": false,
     "title": ""
    }
   },
   "outputs": [],
   "source": [
    "from pyspark.sql import SparkSession\n",
    "from pyspark.sql.types import *\n",
    "from pyspark.sql.functions import *"
   ]
  },
  {
   "cell_type": "code",
   "execution_count": 0,
   "metadata": {
    "application/vnd.databricks.v1+cell": {
     "cellMetadata": {
      "byteLimit": 2048000,
      "rowLimit": 10000
     },
     "inputWidgets": {},
     "nuid": "719df404-d2bd-4835-b671-4a4198af309c",
     "showTitle": false,
     "title": ""
    }
   },
   "outputs": [],
   "source": [
    "spark = SparkSession.builder.getOrCreate()"
   ]
  },
  {
   "cell_type": "code",
   "execution_count": 0,
   "metadata": {
    "application/vnd.databricks.v1+cell": {
     "cellMetadata": {
      "byteLimit": 2048000,
      "rowLimit": 10000
     },
     "inputWidgets": {},
     "nuid": "858511a4-0a75-4064-8634-9836eed8bdde",
     "showTitle": false,
     "title": ""
    }
   },
   "outputs": [],
   "source": [
    "#Archivo en Cloud Storage - Google Cloud Platform\n",
    "ruta_afiliados_landing = \"gs://data-lake-afiliados/landing\"\n",
    "\n",
    "df_afiliados_landing = spark.read.format(\"parquet\").option(\"header\",\"true\").load(ruta_afiliados_landing)"
   ]
  },
  {
   "cell_type": "code",
   "execution_count": 0,
   "metadata": {
    "application/vnd.databricks.v1+cell": {
     "cellMetadata": {
      "byteLimit": 2048000,
      "rowLimit": 10000
     },
     "inputWidgets": {},
     "nuid": "7f59441b-0ad5-40cc-993f-639529e4d34f",
     "showTitle": false,
     "title": ""
    }
   },
   "outputs": [
    {
     "output_type": "stream",
     "name": "stdout",
     "output_type": "stream",
     "text": [
      "+--------+-------+---+--------+--------------------+----------+-------------+----+----------+-----------+------------------+------------+-------------+--------+------------+--------------+----+-----------+---------+--------------------+---------+------+\n|id_table|periodo| id|  numdoc|               cuspp|first_name|    last_name|edad|tipo_fondo| afp_origen|           empresa|         ruc|tipo_comision|     ram|tipo_usuario|tipo_prospecto|sexo|gest_fecha_| telefono|              correo|   equipo| etapa|\n+--------+-------+---+--------+--------------------+----------+-------------+----+----------+-----------+------------------+------------+-------------+--------+------------+--------------+----+-----------+---------+--------------------+---------+------+\n|       0| 202301|  1|86610256|rlairdcraig0@nift...|       Ray|  Laird-Craig|  33|   fondo 1|AFP HABITAT|Sunset Enterprises|375810124154|        flujo|52271.47|       nuevo|         grupo|   F|  1/24/2024|924203949|rlairdcraig0@doma...|   LIMA 5|cierre|\n|       1| 202301|  2|58943075|ltyres1@friendfee...|    Loydie|        Tyres|  26|   fondo 0|  PROFUTURO| Widget Industries|607357200766|        mixta|43498.71|       nuevo|          null|   M|  1/12/2024|943517773|   ltyres1@tmall.com|PROVINCIA|cierre|\n|       2| 202301|  3|44548531|sobrollachain2@bl...| Sebastian|O'Brollachain|  56|   fondo 1|AFP INTEGRA| Widget Industries|221186747871|        flujo|61205.98|        null|         grupo|   M|  1/17/2024|998909160|sobrollachain2@uc...|   LIMA 2|cierre|\n|       3| 202301|  4|27969891|  vsilson3@google.it|    Valery|       Silson|  60|   fondo 3|AFP HABITAT|Global Innovations|200312799018|        mixta|11858.44|        null|          null|   F|  1/14/2024|928668342|   vsilson3@tamu.edu|PROVINCIA|cierre|\n|       4| 202301|  5|52405781|jelflain4@howstuf...|   Jacinda|      Elflain|  30|   fondo 3|AFP INTEGRA|Sunset Enterprises| 46347775580|        mixta|57196.64|        null|       campaña|   F|  1/21/2024|937494211|jelflain4@google....|   LIMA 3|cierre|\n|       5| 202301|  6|40090562|  delsie5@sbwire.com|    Deanne|        Elsie|  60|   fondo 3|  PROFUTURO|Global Innovations|694085427988|        flujo|70165.79|       nuevo|          null|   F|  1/18/2024|962316527|delsie5@indiegogo...|   LIMA 5|cierre|\n|       6| 202301|  7|45591586|twoodcraft6@xrea.com|     Tisha|    Woodcraft|  34|   fondo 2|  PROFUTURO|Sunset Enterprises|369221765096|        mixta|74397.67|       nuevo|         grupo|   F|  1/30/2024|913218600| twoodcraft6@home.pl|   LIMA 5|cierre|\n|       7| 202301|  8|87519566|frushmer7@pcworld...|   Forrest|      Rushmer|  31|   fondo 2|AFP INTEGRA|     ABC Logistics|654674990241|        flujo|73368.74|        null|          null|   M|   1/6/2024|978249871|frushmer7@amazon....|PROVINCIA|cierre|\n|       8| 202301|  9|71229343|     jlehr8@java.com|   Juliana|         Lehr|  19|   fondo 3|  PROFUTURO| Widget Industries|825230050839|        flujo|22791.52|        null|          null|   F|  1/25/2024|904977847|      jlehr8@mit.edu|   LIMA 1|cierre|\n|       9| 202301| 10| 4719537|smooreed9@alibaba...|   Sheffie|      Mooreed|  38|   fondo 3|  PROFUTURO|Sunset Enterprises|412376428701|        flujo|19487.72|       nuevo|         grupo|   M|  1/24/2024|931315798|smooreed9@engadge...|   LIMA 2|cierre|\n+--------+-------+---+--------+--------------------+----------+-------------+----+----------+-----------+------------------+------------+-------------+--------+------------+--------------+----+-----------+---------+--------------------+---------+------+\nonly showing top 10 rows\n\n"
     ]
    }
   ],
   "source": [
    "df_afiliados_landing.show(10)\n"
   ]
  },
  {
   "cell_type": "code",
   "execution_count": 0,
   "metadata": {
    "application/vnd.databricks.v1+cell": {
     "cellMetadata": {
      "byteLimit": 2048000,
      "rowLimit": 10000
     },
     "inputWidgets": {},
     "nuid": "5dfa4915-7f79-43f1-b6cd-45c296ecb88e",
     "showTitle": false,
     "title": ""
    }
   },
   "outputs": [
    {
     "output_type": "stream",
     "name": "stdout",
     "output_type": "stream",
     "text": [
      "root\n |-- id_table: integer (nullable = true)\n |-- periodo: integer (nullable = true)\n |-- id: integer (nullable = true)\n |-- numdoc: integer (nullable = true)\n |-- cuspp: string (nullable = true)\n |-- first_name: string (nullable = true)\n |-- last_name: string (nullable = true)\n |-- edad: integer (nullable = true)\n |-- tipo_fondo: string (nullable = true)\n |-- afp_origen: string (nullable = true)\n |-- empresa: string (nullable = true)\n |-- ruc: long (nullable = true)\n |-- tipo_comision: string (nullable = true)\n |-- ram: double (nullable = true)\n |-- tipo_usuario: string (nullable = true)\n |-- tipo_prospecto: string (nullable = true)\n |-- sexo: string (nullable = true)\n |-- gest_fecha_: string (nullable = true)\n |-- telefono: integer (nullable = true)\n |-- correo: string (nullable = true)\n |-- equipo: string (nullable = true)\n |-- etapa: string (nullable = true)\n\n"
     ]
    }
   ],
   "source": [
    "df_afiliados_landing.printSchema()"
   ]
  },
  {
   "cell_type": "code",
   "execution_count": 0,
   "metadata": {
    "application/vnd.databricks.v1+cell": {
     "cellMetadata": {
      "byteLimit": 2048000,
      "rowLimit": 10000
     },
     "inputWidgets": {},
     "nuid": "fd6d4c9d-b53f-4410-82b6-a39cb6e32243",
     "showTitle": false,
     "title": ""
    }
   },
   "outputs": [
    {
     "output_type": "stream",
     "name": "stdout",
     "output_type": "stream",
     "text": [
      "+-------+---+--------+----------+-------------+----+----------+-----------+------------------+------------+-------------+--------+------------+--------------+----+-----------+---------+--------------------+---------+------+\n|periodo| id|  numdoc|first_name|    last_name|edad|tipo_fondo| afp_origen|           empresa|         ruc|tipo_comision|     ram|tipo_usuario|tipo_prospecto|sexo|gest_fecha_| telefono|              correo|   equipo| etapa|\n+-------+---+--------+----------+-------------+----+----------+-----------+------------------+------------+-------------+--------+------------+--------------+----+-----------+---------+--------------------+---------+------+\n| 202301|  1|86610256|       Ray|  Laird-Craig|  33|   fondo 1|AFP HABITAT|Sunset Enterprises|375810124154|        flujo|52271.47|       nuevo|         grupo|   F|  1/24/2024|924203949|rlairdcraig0@doma...|   LIMA 5|cierre|\n| 202301|  2|58943075|    Loydie|        Tyres|  26|   fondo 0|  PROFUTURO| Widget Industries|607357200766|        mixta|43498.71|       nuevo|          null|   M|  1/12/2024|943517773|   ltyres1@tmall.com|PROVINCIA|cierre|\n| 202301|  3|44548531| Sebastian|O'Brollachain|  56|   fondo 1|AFP INTEGRA| Widget Industries|221186747871|        flujo|61205.98|        null|         grupo|   M|  1/17/2024|998909160|sobrollachain2@uc...|   LIMA 2|cierre|\n| 202301|  4|27969891|    Valery|       Silson|  60|   fondo 3|AFP HABITAT|Global Innovations|200312799018|        mixta|11858.44|        null|          null|   F|  1/14/2024|928668342|   vsilson3@tamu.edu|PROVINCIA|cierre|\n| 202301|  5|52405781|   Jacinda|      Elflain|  30|   fondo 3|AFP INTEGRA|Sunset Enterprises| 46347775580|        mixta|57196.64|        null|       campaña|   F|  1/21/2024|937494211|jelflain4@google....|   LIMA 3|cierre|\n| 202301|  6|40090562|    Deanne|        Elsie|  60|   fondo 3|  PROFUTURO|Global Innovations|694085427988|        flujo|70165.79|       nuevo|          null|   F|  1/18/2024|962316527|delsie5@indiegogo...|   LIMA 5|cierre|\n| 202301|  7|45591586|     Tisha|    Woodcraft|  34|   fondo 2|  PROFUTURO|Sunset Enterprises|369221765096|        mixta|74397.67|       nuevo|         grupo|   F|  1/30/2024|913218600| twoodcraft6@home.pl|   LIMA 5|cierre|\n| 202301|  8|87519566|   Forrest|      Rushmer|  31|   fondo 2|AFP INTEGRA|     ABC Logistics|654674990241|        flujo|73368.74|        null|          null|   M|   1/6/2024|978249871|frushmer7@amazon....|PROVINCIA|cierre|\n| 202301|  9|71229343|   Juliana|         Lehr|  19|   fondo 3|  PROFUTURO| Widget Industries|825230050839|        flujo|22791.52|        null|          null|   F|  1/25/2024|904977847|      jlehr8@mit.edu|   LIMA 1|cierre|\n| 202301| 10| 4719537|   Sheffie|      Mooreed|  38|   fondo 3|  PROFUTURO|Sunset Enterprises|412376428701|        flujo|19487.72|       nuevo|         grupo|   M|  1/24/2024|931315798|smooreed9@engadge...|   LIMA 2|cierre|\n+-------+---+--------+----------+-------------+----+----------+-----------+------------------+------------+-------------+--------+------------+--------------+----+-----------+---------+--------------------+---------+------+\nonly showing top 10 rows\n\n"
     ]
    }
   ],
   "source": [
    "df_afiliados_procesado = df_afiliados_landing.drop('cuspp','id_table')\n",
    "df_afiliados_procesado.show(10)"
   ]
  },
  {
   "cell_type": "code",
   "execution_count": 0,
   "metadata": {
    "application/vnd.databricks.v1+cell": {
     "cellMetadata": {
      "byteLimit": 2048000,
      "rowLimit": 10000
     },
     "inputWidgets": {},
     "nuid": "01538239-7aaf-4ad3-b0f2-32d14e68d9a5",
     "showTitle": false,
     "title": ""
    }
   },
   "outputs": [
    {
     "output_type": "stream",
     "name": "stdout",
     "output_type": "stream",
     "text": [
      "+-------+---+--------+----------+-------------+----+----------+-----------+------------------+------------+-------------+--------+------------+--------------+----+-----------+---------+--------------------+---------+------+\n|periodo| id|  numdoc|first_name|    last_name|edad|tipo_fondo| afp_origen|           empresa|         ruc|tipo_comision|     ram|tipo_usuario|tipo_prospecto|sexo|gest_fecha_| telefono|              correo|   equipo| etapa|\n+-------+---+--------+----------+-------------+----+----------+-----------+------------------+------------+-------------+--------+------------+--------------+----+-----------+---------+--------------------+---------+------+\n| 202301|  1|86610256|       Ray|  Laird-Craig|  33|   fondo 1|AFP HABITAT|Sunset Enterprises|375810124154|        flujo|52271.47|       nuevo|         grupo|   F|  1/24/2024|924203949|rlairdcraig0@doma...|   LIMA 5|cierre|\n| 202301|  2|58943075|    Loydie|        Tyres|  26|   fondo 0|  PROFUTURO| Widget Industries|607357200766|        mixta|43498.71|       nuevo|          null|   M|  1/12/2024|943517773|   ltyres1@tmall.com|PROVINCIA|cierre|\n| 202301|  3|44548531| Sebastian|O'Brollachain|  56|   fondo 1|AFP INTEGRA| Widget Industries|221186747871|        flujo|61205.98|        null|         grupo|   M|  1/17/2024|998909160|sobrollachain2@uc...|   LIMA 2|cierre|\n| 202301|  4|27969891|    Valery|       Silson|  60|   fondo 3|AFP HABITAT|Global Innovations|200312799018|        mixta|11858.44|        null|          null|   F|  1/14/2024|928668342|   vsilson3@tamu.edu|PROVINCIA|cierre|\n| 202301|  5|52405781|   Jacinda|      Elflain|  30|   fondo 3|AFP INTEGRA|Sunset Enterprises|046347775580|        mixta|57196.64|        null|       campaña|   F|  1/21/2024|937494211|jelflain4@google....|   LIMA 3|cierre|\n| 202301|  6|40090562|    Deanne|        Elsie|  60|   fondo 3|  PROFUTURO|Global Innovations|694085427988|        flujo|70165.79|       nuevo|          null|   F|  1/18/2024|962316527|delsie5@indiegogo...|   LIMA 5|cierre|\n| 202301|  7|45591586|     Tisha|    Woodcraft|  34|   fondo 2|  PROFUTURO|Sunset Enterprises|369221765096|        mixta|74397.67|       nuevo|         grupo|   F|  1/30/2024|913218600| twoodcraft6@home.pl|   LIMA 5|cierre|\n| 202301|  8|87519566|   Forrest|      Rushmer|  31|   fondo 2|AFP INTEGRA|     ABC Logistics|654674990241|        flujo|73368.74|        null|          null|   M|   1/6/2024|978249871|frushmer7@amazon....|PROVINCIA|cierre|\n| 202301|  9|71229343|   Juliana|         Lehr|  19|   fondo 3|  PROFUTURO| Widget Industries|825230050839|        flujo|22791.52|        null|          null|   F|  1/25/2024|904977847|      jlehr8@mit.edu|   LIMA 1|cierre|\n| 202301| 10|04719537|   Sheffie|      Mooreed|  38|   fondo 3|  PROFUTURO|Sunset Enterprises|412376428701|        flujo|19487.72|       nuevo|         grupo|   M|  1/24/2024|931315798|smooreed9@engadge...|   LIMA 2|cierre|\n+-------+---+--------+----------+-------------+----+----------+-----------+------------------+------------+-------------+--------+------------+--------------+----+-----------+---------+--------------------+---------+------+\nonly showing top 10 rows\n\nroot\n |-- periodo: integer (nullable = true)\n |-- id: integer (nullable = true)\n |-- numdoc: string (nullable = true)\n |-- first_name: string (nullable = true)\n |-- last_name: string (nullable = true)\n |-- edad: integer (nullable = true)\n |-- tipo_fondo: string (nullable = true)\n |-- afp_origen: string (nullable = true)\n |-- empresa: string (nullable = true)\n |-- ruc: string (nullable = true)\n |-- tipo_comision: string (nullable = true)\n |-- ram: double (nullable = true)\n |-- tipo_usuario: string (nullable = true)\n |-- tipo_prospecto: string (nullable = true)\n |-- sexo: string (nullable = true)\n |-- gest_fecha_: string (nullable = true)\n |-- telefono: integer (nullable = true)\n |-- correo: string (nullable = true)\n |-- equipo: string (nullable = true)\n |-- etapa: string (nullable = true)\n\n"
     ]
    }
   ],
   "source": [
    "df_afiliados_procesado = df_afiliados_procesado.withColumn('numdoc', col('numdoc').cast(\"string\"))\n",
    "df_afiliados_procesado = df_afiliados_procesado.withColumn('numdoc', lpad(col('numdoc'), 8, '0'))\n",
    "df_afiliados_procesado = df_afiliados_procesado.withColumn('ruc', lpad(col('ruc'), 12, '0'))\n",
    "\n",
    "# Mostrar las primeras 10 filas del DataFrame resultante\n",
    "df_afiliados_procesado.show(10)\n",
    "df_afiliados_procesado.printSchema()\n"
   ]
  },
  {
   "cell_type": "code",
   "execution_count": 0,
   "metadata": {
    "application/vnd.databricks.v1+cell": {
     "cellMetadata": {
      "byteLimit": 2048000,
      "rowLimit": 10000
     },
     "inputWidgets": {},
     "nuid": "d29f5746-c7c2-42dd-b9d6-d4010ed69269",
     "showTitle": false,
     "title": ""
    }
   },
   "outputs": [],
   "source": [
    "ruta_afiliados_curated = \"gs://data-lake-afiliados/curated/\""
   ]
  },
  {
   "cell_type": "code",
   "execution_count": 0,
   "metadata": {
    "application/vnd.databricks.v1+cell": {
     "cellMetadata": {
      "byteLimit": 2048000,
      "rowLimit": 10000
     },
     "inputWidgets": {},
     "nuid": "1c4d032b-52d9-47fc-9ae6-3e1e750d204e",
     "showTitle": false,
     "title": ""
    }
   },
   "outputs": [],
   "source": [
    "df_afiliados_procesado.write.mode(\"overwrite\").format(\"parquet\").save(ruta_afiliados_curated)"
   ]
  }
 ],
 "metadata": {
  "application/vnd.databricks.v1+notebook": {
   "dashboards": [],
   "language": "python",
   "notebookMetadata": {
    "pythonIndentUnit": 4
   },
   "notebookName": "Landing To Curated",
   "widgets": {}
  }
 },
 "nbformat": 4,
 "nbformat_minor": 0
}
