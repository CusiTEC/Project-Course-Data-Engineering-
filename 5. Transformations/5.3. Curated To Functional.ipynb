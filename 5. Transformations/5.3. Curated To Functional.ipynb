{
 "cells": [
  {
   "cell_type": "code",
   "execution_count": 0,
   "metadata": {
    "application/vnd.databricks.v1+cell": {
     "cellMetadata": {
      "byteLimit": 2048000,
      "rowLimit": 10000
     },
     "inputWidgets": {},
     "nuid": "8d4f7666-7b56-432d-8e23-f5b4ee2093fd",
     "showTitle": false,
     "title": ""
    }
   },
   "outputs": [],
   "source": [
    "from pyspark.sql import SparkSession\n",
    "from pyspark.sql.types import *\n",
    "from pyspark.sql.functions import *"
   ]
  },
  {
   "cell_type": "code",
   "execution_count": 0,
   "metadata": {
    "application/vnd.databricks.v1+cell": {
     "cellMetadata": {
      "byteLimit": 2048000,
      "rowLimit": 10000
     },
     "inputWidgets": {},
     "nuid": "7bd181e3-0fad-4ada-b36f-c58216787c03",
     "showTitle": false,
     "title": ""
    }
   },
   "outputs": [],
   "source": [
    "spark = SparkSession.builder.getOrCreate()"
   ]
  },
  {
   "cell_type": "code",
   "execution_count": 0,
   "metadata": {
    "application/vnd.databricks.v1+cell": {
     "cellMetadata": {
      "byteLimit": 2048000,
      "rowLimit": 10000
     },
     "inputWidgets": {},
     "nuid": "d3b309b2-19a6-429a-a403-e98ee5051819",
     "showTitle": false,
     "title": ""
    }
   },
   "outputs": [],
   "source": [
    "ruta_curated = \"gs://data-lake-afiliados/curated/\"\n",
    "ruta_functional_aniomes = \"gs://data-lake-afiliados/functional/aniomes\"\n",
    "ruta_functional_anio= \"gs://data-lake-afiliados/functional/anio\""
   ]
  },
  {
   "cell_type": "code",
   "execution_count": 0,
   "metadata": {
    "application/vnd.databricks.v1+cell": {
     "cellMetadata": {
      "byteLimit": 2048000,
      "rowLimit": 10000
     },
     "inputWidgets": {},
     "nuid": "0d829ff3-4165-4093-9adb-0c53c124963d",
     "showTitle": false,
     "title": ""
    }
   },
   "outputs": [],
   "source": [
    "df_curated = spark.read.format(\"parquet\").option(\"header\",\"true\").load(ruta_curated)"
   ]
  },
  {
   "cell_type": "code",
   "execution_count": 0,
   "metadata": {
    "application/vnd.databricks.v1+cell": {
     "cellMetadata": {
      "byteLimit": 2048000,
      "rowLimit": 10000
     },
     "inputWidgets": {},
     "nuid": "6a952b36-71e0-4c0b-a205-2ac7a6d15755",
     "showTitle": false,
     "title": ""
    }
   },
   "outputs": [
    {
     "output_type": "stream",
     "name": "stdout",
     "output_type": "stream",
     "text": [
      "+-------+---+--------+----------+-------------+----+----------+-----------+------------------+------------+-------------+--------+------------+--------------+----+-----------+---------+--------------------+---------+------+\n|periodo| id|  numdoc|first_name|    last_name|edad|tipo_fondo| afp_origen|           empresa|         ruc|tipo_comision|     ram|tipo_usuario|tipo_prospecto|sexo|gest_fecha_| telefono|              correo|   equipo| etapa|\n+-------+---+--------+----------+-------------+----+----------+-----------+------------------+------------+-------------+--------+------------+--------------+----+-----------+---------+--------------------+---------+------+\n| 202301|  1|86610256|       Ray|  Laird-Craig|  33|   fondo 1|AFP HABITAT|Sunset Enterprises|375810124154|        flujo|52271.47|       nuevo|         grupo|   F|  1/24/2024|924203949|rlairdcraig0@doma...|   LIMA 5|cierre|\n| 202301|  2|58943075|    Loydie|        Tyres|  26|   fondo 0|  PROFUTURO| Widget Industries|607357200766|        mixta|43498.71|       nuevo|          null|   M|  1/12/2024|943517773|   ltyres1@tmall.com|PROVINCIA|cierre|\n| 202301|  3|44548531| Sebastian|O'Brollachain|  56|   fondo 1|AFP INTEGRA| Widget Industries|221186747871|        flujo|61205.98|        null|         grupo|   M|  1/17/2024|998909160|sobrollachain2@uc...|   LIMA 2|cierre|\n| 202301|  4|27969891|    Valery|       Silson|  60|   fondo 3|AFP HABITAT|Global Innovations|200312799018|        mixta|11858.44|        null|          null|   F|  1/14/2024|928668342|   vsilson3@tamu.edu|PROVINCIA|cierre|\n| 202301|  5|52405781|   Jacinda|      Elflain|  30|   fondo 3|AFP INTEGRA|Sunset Enterprises|046347775580|        mixta|57196.64|        null|       campaña|   F|  1/21/2024|937494211|jelflain4@google....|   LIMA 3|cierre|\n| 202301|  6|40090562|    Deanne|        Elsie|  60|   fondo 3|  PROFUTURO|Global Innovations|694085427988|        flujo|70165.79|       nuevo|          null|   F|  1/18/2024|962316527|delsie5@indiegogo...|   LIMA 5|cierre|\n| 202301|  7|45591586|     Tisha|    Woodcraft|  34|   fondo 2|  PROFUTURO|Sunset Enterprises|369221765096|        mixta|74397.67|       nuevo|         grupo|   F|  1/30/2024|913218600| twoodcraft6@home.pl|   LIMA 5|cierre|\n| 202301|  8|87519566|   Forrest|      Rushmer|  31|   fondo 2|AFP INTEGRA|     ABC Logistics|654674990241|        flujo|73368.74|        null|          null|   M|   1/6/2024|978249871|frushmer7@amazon....|PROVINCIA|cierre|\n| 202301|  9|71229343|   Juliana|         Lehr|  19|   fondo 3|  PROFUTURO| Widget Industries|825230050839|        flujo|22791.52|        null|          null|   F|  1/25/2024|904977847|      jlehr8@mit.edu|   LIMA 1|cierre|\n| 202301| 10|04719537|   Sheffie|      Mooreed|  38|   fondo 3|  PROFUTURO|Sunset Enterprises|412376428701|        flujo|19487.72|       nuevo|         grupo|   M|  1/24/2024|931315798|smooreed9@engadge...|   LIMA 2|cierre|\n| 202301| 11|16521111|     Helge|     Wickmann|  51|   fondo 2|AFP HABITAT| Widget Industries|336658801517|        flujo|83431.74|        null|          null|   F|   1/3/2024|991658348|hwickmanna@bloomb...|   LIMA 2|cierre|\n| 202301| 12|55978032|   Justinn|   Hanselmann|  27|   fondo 1|AFP INTEGRA| Widget Industries|379205709613|        flujo|92234.62|       nuevo|      referido|   F|  1/15/2024|949065478|jhanselmannb@arti...|   LIMA 5|cierre|\n| 202301| 13|59806236|      Erin|       Mahedy|  18|   fondo 3|AFP HABITAT|Global Innovations|136486153766|        mixta|42454.79|        null|       campaña|   M|  1/11/2024|914460908|emahedyc@google.c...|   LIMA 2|cierre|\n| 202301| 14|12408897|     Dayle|      Kington|  48|   fondo 3|AFP HABITAT| Widget Industries|097993668414|        flujo| 1477.37|       nuevo|          null|   F|   1/8/2024|903999242|dkingtond@nsw.gov.au|   LIMA 4|cierre|\n| 202301| 15|06132548|   Rinaldo|       Tenman|  22|   fondo 3|AFP INTEGRA|  Acme Corporation|508018745062|        flujo|65682.46|        null|       campaña|   M|  1/24/2024|959833853|    rtenmane@ted.com|   LIMA 2|cierre|\n| 202301| 16|36216267|     Maddy|       Canter|  35|   fondo 1|  PROFUTURO|Sunset Enterprises|107949435231|        mixta|44196.74|       nuevo|      referido|   M|   1/6/2024|984807498|mcanterf@examiner...|   LIMA 1|cierre|\n| 202301| 17|61090347|   Bartlet|      Millmoe|  59|   fondo 2|AFP INTEGRA| Widget Industries|111426048348|        flujo| 99298.1|        null|       campaña|   M|  1/30/2024|913219025|   bmillmoeg@who.int|   LIMA 2|cierre|\n| 202301| 18|28021462|     Stace|        Heitz|  49|   fondo 2|  PROFUTURO|Global Innovations|692053797600|        mixta| 9006.52|        null|       campaña|   F|  1/26/2024|926194673|      sheitzh@i2i.jp|   LIMA 5|cierre|\n| 202301| 19|47739063|  Jedediah|     Fishpool|  34|   fondo 1|AFP INTEGRA| Widget Industries|559698676618|        mixta|28079.14|       nuevo|      referido|   M|  1/16/2024|955749107|jfishpooli@quantc...|   LIMA 1|cierre|\n| 202301| 20|05150503|    Agnola|   Littlecote|  53|   fondo 1|AFP INTEGRA|Global Innovations|675564748697|        mixta|74299.12|       nuevo|       campaña|   F|   1/4/2024|981783914|alittlecotej@theg...|   LIMA 1|cierre|\n+-------+---+--------+----------+-------------+----+----------+-----------+------------------+------------+-------------+--------+------------+--------------+----+-----------+---------+--------------------+---------+------+\nonly showing top 20 rows\n\n"
     ]
    }
   ],
   "source": [
    "df_curated.show()\n"
   ]
  },
  {
   "cell_type": "code",
   "execution_count": 0,
   "metadata": {
    "application/vnd.databricks.v1+cell": {
     "cellMetadata": {
      "byteLimit": 2048000,
      "rowLimit": 10000
     },
     "inputWidgets": {},
     "nuid": "bd448aa0-b18b-49f6-9dcf-d67d0bab26ef",
     "showTitle": false,
     "title": ""
    }
   },
   "outputs": [
    {
     "output_type": "stream",
     "name": "stdout",
     "output_type": "stream",
     "text": [
      "+-------+\n|periodo|\n+-------+\n| 202401|\n| 202312|\n| 202311|\n| 202310|\n| 202309|\n| 202308|\n| 202307|\n| 202306|\n| 202305|\n| 202304|\n| 202303|\n| 202302|\n| 202301|\n+-------+\n\n"
     ]
    }
   ],
   "source": [
    "df_curated.createOrReplaceTempView(\"tb_afiliados\")\n",
    "\n",
    "df_join = spark.sql(\"SELECT DISTINCT(periodo) FROM tb_afiliados ORDER BY periodo DESC\")\n",
    "df_join.show()"
   ]
  },
  {
   "cell_type": "code",
   "execution_count": 0,
   "metadata": {
    "application/vnd.databricks.v1+cell": {
     "cellMetadata": {
      "byteLimit": 2048000,
      "rowLimit": 10000
     },
     "inputWidgets": {},
     "nuid": "5219710d-3566-47e5-83ca-b68de34ded2f",
     "showTitle": false,
     "title": ""
    }
   },
   "outputs": [],
   "source": [
    "df_curated.write.partitionBy('periodo').parquet(ruta_functional_aniomes, mode='overwrite')"
   ]
  },
  {
   "cell_type": "code",
   "execution_count": 0,
   "metadata": {
    "application/vnd.databricks.v1+cell": {
     "cellMetadata": {
      "byteLimit": 2048000,
      "rowLimit": 10000
     },
     "inputWidgets": {},
     "nuid": "6f38494c-b298-421b-91ae-990b47964074",
     "showTitle": false,
     "title": ""
    }
   },
   "outputs": [],
   "source": [
    "# Extraer el año de la columna 'periodo'\n",
    "df_curated = df_curated.withColumn('anio', substring(col('periodo'), 1, 4))\n",
    "\n",
    "# Guardar el DataFrame particionado por los primeros 4 dígitos de 'periodo' en Parquet\n",
    "df_curated.write.partitionBy('anio').parquet(ruta_functional_anio, mode='overwrite')"
   ]
  }
 ],
 "metadata": {
  "application/vnd.databricks.v1+notebook": {
   "dashboards": [],
   "language": "python",
   "notebookMetadata": {
    "pythonIndentUnit": 4
   },
   "notebookName": "Curated To Functional",
   "widgets": {}
  }
 },
 "nbformat": 4,
 "nbformat_minor": 0
}
